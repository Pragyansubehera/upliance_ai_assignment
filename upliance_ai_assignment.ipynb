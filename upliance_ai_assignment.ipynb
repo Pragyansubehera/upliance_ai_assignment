{
  "nbformat": 4,
  "nbformat_minor": 0,
  "metadata": {
    "colab": {
      "provenance": [],
      "collapsed_sections": [
        "cR0Dm93sNGon"
      ]
    },
    "kernelspec": {
      "name": "python3",
      "display_name": "Python 3"
    },
    "language_info": {
      "name": "python"
    }
  },
  "cells": [
    {
      "cell_type": "markdown",
      "source": [
        "### **Importing Dataset**"
      ],
      "metadata": {
        "id": "c0P8EzblL5u5"
      }
    },
    {
      "cell_type": "code",
      "execution_count": 32,
      "metadata": {
        "id": "qZ10BsgfJMvj"
      },
      "outputs": [],
      "source": [
        "# Importing dataset\n",
        "import pandas as pd\n",
        "UserDetails=pd.read_excel('https://github.com/Pragyansubehera/upliance_ai_assignment/raw/refs/heads/main/Assignment%20(1).xlsx',sheet_name=\"UserDetails.csv\")\n",
        "CookingSessions=pd.read_excel('https://github.com/Pragyansubehera/upliance_ai_assignment/raw/refs/heads/main/Assignment%20(1).xlsx',sheet_name=\"CookingSessions.csv\")\n",
        "OrderDetails=pd.read_excel('https://github.com/Pragyansubehera/upliance_ai_assignment/raw/refs/heads/main/Assignment%20(1).xlsx',sheet_name=\"OrderDetails.csv\")"
      ]
    },
    {
      "cell_type": "markdown",
      "source": [
        "### Basic Data  Cleaning\n",
        "\n",
        "\n",
        "\n"
      ],
      "metadata": {
        "id": "7dUfkLQLMJLR"
      }
    },
    {
      "cell_type": "markdown",
      "source": [
        "## Step-1 ; Basic Summary\n",
        "\n",
        "\n"
      ],
      "metadata": {
        "id": "1-Ksz2cLMiEM"
      }
    },
    {
      "cell_type": "markdown",
      "source": [
        "# for UserDetails csv"
      ],
      "metadata": {
        "id": "cR0Dm93sNGon"
      }
    },
    {
      "cell_type": "code",
      "source": [
        "# for UserDetails csv\n",
        "print(UserDetails.shape)\n",
        "print(UserDetails.info())\n",
        "print(UserDetails.head())"
      ],
      "metadata": {
        "colab": {
          "base_uri": "https://localhost:8080/"
        },
        "collapsed": true,
        "id": "VR2WO6hhKda6",
        "outputId": "de21d920-cdb3-4fa5-9951-17b663a1d485"
      },
      "execution_count": 5,
      "outputs": [
        {
          "output_type": "stream",
          "name": "stdout",
          "text": [
            "(10, 9)\n",
            "<class 'pandas.core.frame.DataFrame'>\n",
            "RangeIndex: 10 entries, 0 to 9\n",
            "Data columns (total 9 columns):\n",
            " #   Column             Non-Null Count  Dtype         \n",
            "---  ------             --------------  -----         \n",
            " 0   User ID            10 non-null     object        \n",
            " 1   User Name          10 non-null     object        \n",
            " 2   Age                10 non-null     int64         \n",
            " 3   Location           10 non-null     object        \n",
            " 4   Registration Date  10 non-null     datetime64[ns]\n",
            " 5   Phone              10 non-null     object        \n",
            " 6   Email              10 non-null     object        \n",
            " 7   Favorite Meal      10 non-null     object        \n",
            " 8   Total Orders       10 non-null     int64         \n",
            "dtypes: datetime64[ns](1), int64(2), object(6)\n",
            "memory usage: 848.0+ bytes\n",
            "None\n",
            "  User ID      User Name  Age       Location Registration Date         Phone  \\\n",
            "0    U001  Alice Johnson   28       New York        2023-01-15  123-456-7890   \n",
            "1    U002      Bob Smith   35    Los Angeles        2023-02-20  987-654-3210   \n",
            "2    U003    Charlie Lee   42        Chicago        2023-03-10  555-123-4567   \n",
            "3    U004    David Brown   27  San Francisco        2023-04-05  444-333-2222   \n",
            "4    U005     Emma White   30        Seattle        2023-05-22  777-888-9999   \n",
            "\n",
            "               Email Favorite Meal  Total Orders  \n",
            "0    alice@email.com        Dinner            12  \n",
            "1      bob@email.com         Lunch             8  \n",
            "2  charlie@email.com     Breakfast            15  \n",
            "3    david@email.com        Dinner            10  \n",
            "4     emma@email.com         Lunch             9  \n"
          ]
        }
      ]
    },
    {
      "cell_type": "code",
      "source": [
        "print(UserDetails.dtypes)"
      ],
      "metadata": {
        "colab": {
          "base_uri": "https://localhost:8080/"
        },
        "collapsed": true,
        "id": "uyGNmX6bQAAl",
        "outputId": "20f3e78a-7d8e-4790-ebc5-c918858776eb"
      },
      "execution_count": 15,
      "outputs": [
        {
          "output_type": "stream",
          "name": "stdout",
          "text": [
            "User ID                      object\n",
            "User Name                    object\n",
            "Age                           int64\n",
            "Location                     object\n",
            "Registration Date    datetime64[ns]\n",
            "Phone                        object\n",
            "Email                        object\n",
            "Favorite Meal                object\n",
            "Total Orders                  int64\n",
            "dtype: object\n"
          ]
        }
      ]
    },
    {
      "cell_type": "code",
      "source": [
        "print(UserDetails.columns)"
      ],
      "metadata": {
        "colab": {
          "base_uri": "https://localhost:8080/"
        },
        "collapsed": true,
        "id": "iGNtHEr1NUS6",
        "outputId": "4e69da01-4bdb-4472-c588-64875a478a50"
      },
      "execution_count": 7,
      "outputs": [
        {
          "output_type": "stream",
          "name": "stdout",
          "text": [
            "Index(['User ID', 'User Name', 'Age', 'Location', 'Registration Date', 'Phone',\n",
            "       'Email', 'Favorite Meal', 'Total Orders'],\n",
            "      dtype='object')\n"
          ]
        }
      ]
    },
    {
      "cell_type": "markdown",
      "source": [
        "*   Categorical - 'User Name', 'Location', 'Registration Date', 'Phone', 'Email', 'Favorite Meal'\n",
        "*   Discrete - 'User ID','age'\n",
        "*   Continuous - Total Orders"
      ],
      "metadata": {
        "id": "-P0T7s9GNdHJ"
      }
    },
    {
      "cell_type": "markdown",
      "source": [
        "# for CookingSessions csv"
      ],
      "metadata": {
        "id": "WadEivYgOJRN"
      }
    },
    {
      "cell_type": "code",
      "source": [
        "# for CookingSessions csv\n",
        "print(CookingSessions.shape)\n",
        "print(CookingSessions.info())\n",
        "print(CookingSessions.head())"
      ],
      "metadata": {
        "colab": {
          "base_uri": "https://localhost:8080/"
        },
        "collapsed": true,
        "id": "1cK69IEaM7QV",
        "outputId": "956219cd-b21b-4810-f80a-5c11bb165072"
      },
      "execution_count": 10,
      "outputs": [
        {
          "output_type": "stream",
          "name": "stdout",
          "text": [
            "(16, 8)\n",
            "<class 'pandas.core.frame.DataFrame'>\n",
            "RangeIndex: 16 entries, 0 to 15\n",
            "Data columns (total 8 columns):\n",
            " #   Column           Non-Null Count  Dtype         \n",
            "---  ------           --------------  -----         \n",
            " 0   Session ID       16 non-null     object        \n",
            " 1   User ID          16 non-null     object        \n",
            " 2   Dish Name        16 non-null     object        \n",
            " 3   Meal Type        16 non-null     object        \n",
            " 4   Session Start    16 non-null     datetime64[ns]\n",
            " 5   Session End      16 non-null     datetime64[ns]\n",
            " 6   Duration (mins)  16 non-null     int64         \n",
            " 7   Session Rating   16 non-null     float64       \n",
            "dtypes: datetime64[ns](2), float64(1), int64(1), object(4)\n",
            "memory usage: 1.1+ KB\n",
            "None\n",
            "  Session ID User ID        Dish Name  Meal Type       Session Start  \\\n",
            "0       S001    U001        Spaghetti     Dinner 2024-12-01 19:00:00   \n",
            "1       S002    U002     Caesar Salad      Lunch 2024-12-01 12:00:00   \n",
            "2       S003    U003  Grilled Chicken     Dinner 2024-12-02 19:30:00   \n",
            "3       S004    U001         Pancakes  Breakfast 2024-12-02 07:30:00   \n",
            "4       S005    U004     Caesar Salad      Lunch 2024-12-03 13:00:00   \n",
            "\n",
            "          Session End  Duration (mins)  Session Rating  \n",
            "0 2024-12-01 19:30:00               30             4.5  \n",
            "1 2024-12-01 12:20:00               20             4.0  \n",
            "2 2024-12-02 20:10:00               40             4.8  \n",
            "3 2024-12-02 08:00:00               30             4.2  \n",
            "4 2024-12-03 13:15:00               15             4.7  \n"
          ]
        }
      ]
    },
    {
      "cell_type": "code",
      "source": [
        "print(CookingSessions.dtypes)"
      ],
      "metadata": {
        "colab": {
          "base_uri": "https://localhost:8080/"
        },
        "collapsed": true,
        "id": "4L3kvi-SP4Nq",
        "outputId": "0b8482f7-f236-46b1-c944-3db0b3d4e852"
      },
      "execution_count": 14,
      "outputs": [
        {
          "output_type": "stream",
          "name": "stdout",
          "text": [
            "Session ID                 object\n",
            "User ID                    object\n",
            "Dish Name                  object\n",
            "Meal Type                  object\n",
            "Session Start      datetime64[ns]\n",
            "Session End        datetime64[ns]\n",
            "Duration (mins)             int64\n",
            "Session Rating            float64\n",
            "dtype: object\n"
          ]
        }
      ]
    },
    {
      "cell_type": "code",
      "source": [
        "print(CookingSessions.columns)"
      ],
      "metadata": {
        "colab": {
          "base_uri": "https://localhost:8080/"
        },
        "id": "cXo9usa2OMwc",
        "outputId": "25837a98-0772-407a-a8b0-0c9dce295d06"
      },
      "execution_count": 9,
      "outputs": [
        {
          "output_type": "stream",
          "name": "stdout",
          "text": [
            "Index(['Session ID', 'User ID', 'Dish Name', 'Meal Type', 'Session Start',\n",
            "       'Session End', 'Duration (mins)', 'Session Rating'],\n",
            "      dtype='object')\n"
          ]
        }
      ]
    },
    {
      "cell_type": "markdown",
      "source": [
        "*   Categorical -, 'Dish Name', 'Meal Type', 'Session Start',\n",
        "       'Session End', 'Session Rating'\n",
        "*   Discrete -  'Session ID', 'User ID'\n",
        "*   Continuous -  'Duration (mins)'"
      ],
      "metadata": {
        "id": "uEDEnQIkOPae"
      }
    },
    {
      "cell_type": "markdown",
      "source": [
        "# for OrderDetails csv"
      ],
      "metadata": {
        "id": "md18dHBVO7X4"
      }
    },
    {
      "cell_type": "code",
      "source": [
        "# for OrderDetails csv\n",
        "print(OrderDetails.shape)\n",
        "print(OrderDetails.info())\n",
        "print(OrderDetails.head())"
      ],
      "metadata": {
        "colab": {
          "base_uri": "https://localhost:8080/"
        },
        "collapsed": true,
        "id": "BD9GCfn3OOvU",
        "outputId": "539d24d9-2e7a-4381-8a8d-3d9036ebd8dd"
      },
      "execution_count": 17,
      "outputs": [
        {
          "output_type": "stream",
          "name": "stdout",
          "text": [
            "(16, 10)\n",
            "<class 'pandas.core.frame.DataFrame'>\n",
            "RangeIndex: 16 entries, 0 to 15\n",
            "Data columns (total 10 columns):\n",
            " #   Column        Non-Null Count  Dtype         \n",
            "---  ------        --------------  -----         \n",
            " 0   Order ID      16 non-null     int64         \n",
            " 1   User ID       16 non-null     object        \n",
            " 2   Order Date    16 non-null     datetime64[ns]\n",
            " 3   Meal Type     16 non-null     object        \n",
            " 4   Dish Name     16 non-null     object        \n",
            " 5   Order Status  16 non-null     object        \n",
            " 6   Amount (USD)  16 non-null     float64       \n",
            " 7   Time of Day   16 non-null     object        \n",
            " 8   Rating        14 non-null     float64       \n",
            " 9   Session ID    16 non-null     object        \n",
            "dtypes: datetime64[ns](1), float64(2), int64(1), object(6)\n",
            "memory usage: 1.4+ KB\n",
            "None\n",
            "   Order ID User ID Order Date  Meal Type        Dish Name Order Status  \\\n",
            "0      1001    U001 2024-12-01     Dinner        Spaghetti    Completed   \n",
            "1      1002    U002 2024-12-01      Lunch     Caesar Salad    Completed   \n",
            "2      1003    U003 2024-12-02     Dinner  Grilled Chicken     Canceled   \n",
            "3      1004    U001 2024-12-02  Breakfast         Pancakes    Completed   \n",
            "4      1005    U004 2024-12-03      Lunch     Caesar Salad    Completed   \n",
            "\n",
            "   Amount (USD) Time of Day  Rating Session ID  \n",
            "0          15.0       Night     5.0       S001  \n",
            "1          10.0         Day     4.0       S002  \n",
            "2          12.5       Night     NaN       S003  \n",
            "3           8.0     Morning     4.0       S004  \n",
            "4           9.0         Day     4.0       S005  \n"
          ]
        }
      ]
    },
    {
      "cell_type": "code",
      "source": [
        "print(OrderDetails.dtypes)"
      ],
      "metadata": {
        "colab": {
          "base_uri": "https://localhost:8080/"
        },
        "collapsed": true,
        "id": "4OLfVT_9QHdq",
        "outputId": "f08cb82b-bc46-4f4f-c350-aabf0ba7600c"
      },
      "execution_count": 18,
      "outputs": [
        {
          "output_type": "stream",
          "name": "stdout",
          "text": [
            "Order ID                 int64\n",
            "User ID                 object\n",
            "Order Date      datetime64[ns]\n",
            "Meal Type               object\n",
            "Dish Name               object\n",
            "Order Status            object\n",
            "Amount (USD)           float64\n",
            "Time of Day             object\n",
            "Rating                 float64\n",
            "Session ID              object\n",
            "dtype: object\n"
          ]
        }
      ]
    },
    {
      "cell_type": "code",
      "source": [
        "print(OrderDetails.columns)"
      ],
      "metadata": {
        "colab": {
          "base_uri": "https://localhost:8080/"
        },
        "id": "DXfBnQXoPHrU",
        "outputId": "b7a5164a-e49a-46f2-e33b-78b60b194c3e"
      },
      "execution_count": 19,
      "outputs": [
        {
          "output_type": "stream",
          "name": "stdout",
          "text": [
            "Index(['Order ID', 'User ID', 'Order Date', 'Meal Type', 'Dish Name',\n",
            "       'Order Status', 'Amount (USD)', 'Time of Day', 'Rating', 'Session ID'],\n",
            "      dtype='object')\n"
          ]
        }
      ]
    },
    {
      "cell_type": "markdown",
      "source": [
        "*   Categorical - 'Order Date', 'Meal Type', 'Dish Name',\n",
        "       'Order Status', 'Time of Day', 'Rating'\n",
        "*   Discrete - 'Order ID', 'User ID'\n",
        "*   Continuous - 'Amount (USD)'"
      ],
      "metadata": {
        "id": "DIbCxPb9PUfZ"
      }
    },
    {
      "cell_type": "markdown",
      "source": [
        "\n",
        "### Merging dataset"
      ],
      "metadata": {
        "id": "nlE6D5LhQSwj"
      }
    },
    {
      "cell_type": "code",
      "source": [
        "# First, merge OrderDetails and CookingSessions\n",
        "CookingSessions_new=CookingSessions[['Session ID', 'Session Start', 'Session End', 'Duration (mins)', 'Session Rating']]\n",
        "merged = pd.merge(OrderDetails, CookingSessions_new, on='Session ID', how='inner').reset_index(drop=True)\n",
        "\n",
        "# Then, merge the result with UserDetails on 'User ID'\n",
        "merged_dataset = pd.merge(merged, UserDetails, on='User ID', how='inner')\n",
        "\n",
        "print(merged_dataset.head)"
      ],
      "metadata": {
        "colab": {
          "base_uri": "https://localhost:8080/"
        },
        "collapsed": true,
        "id": "VmW1Mu8fQ-AC",
        "outputId": "d977a9ad-c495-45c6-d5ba-0461225ce1b6"
      },
      "execution_count": 38,
      "outputs": [
        {
          "output_type": "stream",
          "name": "stdout",
          "text": [
            "<bound method NDFrame.head of     Order ID User ID Order Date  Meal Type        Dish Name Order Status  \\\n",
            "0       1001    U001 2024-12-01     Dinner        Spaghetti    Completed   \n",
            "1       1002    U002 2024-12-01      Lunch     Caesar Salad    Completed   \n",
            "2       1003    U003 2024-12-02     Dinner  Grilled Chicken     Canceled   \n",
            "3       1004    U001 2024-12-02  Breakfast         Pancakes    Completed   \n",
            "4       1005    U004 2024-12-03      Lunch     Caesar Salad    Completed   \n",
            "5       1006    U002 2024-12-03     Dinner        Spaghetti    Completed   \n",
            "6       1007    U005 2024-12-04     Dinner  Grilled Chicken    Completed   \n",
            "7       1008    U003 2024-12-04      Lunch    Veggie Burger     Canceled   \n",
            "8       1009    U001 2024-12-05     Dinner  Grilled Chicken    Completed   \n",
            "9       1010    U002 2024-12-05  Breakfast          Oatmeal    Completed   \n",
            "10      1011    U003 2024-12-06  Breakfast         Pancakes    Completed   \n",
            "11      1012    U004 2024-12-06     Dinner        Spaghetti    Completed   \n",
            "12      1013    U005 2024-12-07      Lunch     Caesar Salad    Completed   \n",
            "13      1014    U006 2024-12-07     Dinner  Grilled Chicken    Completed   \n",
            "14      1015    U007 2024-12-08     Dinner        Spaghetti    Completed   \n",
            "15      1016    U008 2024-12-08      Lunch    Veggie Burger    Completed   \n",
            "\n",
            "    Amount (USD) Time of Day  Rating Session ID  ... Duration (mins)  \\\n",
            "0           15.0       Night     5.0       S001  ...              30   \n",
            "1           10.0         Day     4.0       S002  ...              20   \n",
            "2           12.5       Night     NaN       S003  ...              40   \n",
            "3            8.0     Morning     4.0       S004  ...              30   \n",
            "4            9.0         Day     4.0       S005  ...              15   \n",
            "5           14.0       Night     4.0       S006  ...              30   \n",
            "6           13.5       Night     4.0       S007  ...              45   \n",
            "7           11.0         Day     NaN       S008  ...              20   \n",
            "8           12.0       Night     5.0       S009  ...              40   \n",
            "9            7.0     Morning     4.0       S010  ...              10   \n",
            "10           8.5     Morning     4.0       S011  ...              30   \n",
            "11          12.5       Night     4.0       S012  ...              40   \n",
            "12           9.0         Day     4.0       S013  ...              30   \n",
            "13          13.0       Night     5.0       S014  ...              45   \n",
            "14          14.0       Night     5.0       S015  ...              40   \n",
            "15          11.0         Day     4.0       S016  ...              20   \n",
            "\n",
            "   Session Rating      User Name  Age       Location  Registration Date  \\\n",
            "0             4.5  Alice Johnson   28       New York         2023-01-15   \n",
            "1             4.0      Bob Smith   35    Los Angeles         2023-02-20   \n",
            "2             4.8    Charlie Lee   42        Chicago         2023-03-10   \n",
            "3             4.2  Alice Johnson   28       New York         2023-01-15   \n",
            "4             4.7    David Brown   27  San Francisco         2023-04-05   \n",
            "5             4.3      Bob Smith   35    Los Angeles         2023-02-20   \n",
            "6             4.6     Emma White   30        Seattle         2023-05-22   \n",
            "7             4.4    Charlie Lee   42        Chicago         2023-03-10   \n",
            "8             4.9  Alice Johnson   28       New York         2023-01-15   \n",
            "9             4.1      Bob Smith   35    Los Angeles         2023-02-20   \n",
            "10            4.6    Charlie Lee   42        Chicago         2023-03-10   \n",
            "11            4.7    David Brown   27  San Francisco         2023-04-05   \n",
            "12            4.4     Emma White   30        Seattle         2023-05-22   \n",
            "13            4.8    Frank Green   25         Austin         2023-06-15   \n",
            "14            5.0     Grace King   38         Boston         2023-07-02   \n",
            "15            4.3      Henry Lee   31          Miami         2023-08-11   \n",
            "\n",
            "           Phone              Email Favorite Meal Total Orders  \n",
            "0   123-456-7890    alice@email.com        Dinner           12  \n",
            "1   987-654-3210      bob@email.com         Lunch            8  \n",
            "2   555-123-4567  charlie@email.com     Breakfast           15  \n",
            "3   123-456-7890    alice@email.com        Dinner           12  \n",
            "4   444-333-2222    david@email.com        Dinner           10  \n",
            "5   987-654-3210      bob@email.com         Lunch            8  \n",
            "6   777-888-9999     emma@email.com         Lunch            9  \n",
            "7   555-123-4567  charlie@email.com     Breakfast           15  \n",
            "8   123-456-7890    alice@email.com        Dinner           12  \n",
            "9   987-654-3210      bob@email.com         Lunch            8  \n",
            "10  555-123-4567  charlie@email.com     Breakfast           15  \n",
            "11  444-333-2222    david@email.com        Dinner           10  \n",
            "12  777-888-9999     emma@email.com         Lunch            9  \n",
            "13  888-777-6666    frank@email.com        Dinner            7  \n",
            "14  999-888-7777    grace@email.com     Breakfast           14  \n",
            "15  101-202-3030    henry@email.com        Dinner            5  \n",
            "\n",
            "[16 rows x 22 columns]>\n"
          ]
        }
      ]
    },
    {
      "cell_type": "code",
      "source": [
        "print(merged_dataset.head())"
      ],
      "metadata": {
        "colab": {
          "base_uri": "https://localhost:8080/"
        },
        "collapsed": true,
        "id": "1YDRvzFKS_2C",
        "outputId": "33ff151e-d04f-4304-f387-94eb882af7b1"
      },
      "execution_count": 39,
      "outputs": [
        {
          "output_type": "stream",
          "name": "stdout",
          "text": [
            "   Order ID User ID Order Date  Meal Type        Dish Name Order Status  \\\n",
            "0      1001    U001 2024-12-01     Dinner        Spaghetti    Completed   \n",
            "1      1002    U002 2024-12-01      Lunch     Caesar Salad    Completed   \n",
            "2      1003    U003 2024-12-02     Dinner  Grilled Chicken     Canceled   \n",
            "3      1004    U001 2024-12-02  Breakfast         Pancakes    Completed   \n",
            "4      1005    U004 2024-12-03      Lunch     Caesar Salad    Completed   \n",
            "\n",
            "   Amount (USD) Time of Day  Rating Session ID  ... Duration (mins)  \\\n",
            "0          15.0       Night     5.0       S001  ...              30   \n",
            "1          10.0         Day     4.0       S002  ...              20   \n",
            "2          12.5       Night     NaN       S003  ...              40   \n",
            "3           8.0     Morning     4.0       S004  ...              30   \n",
            "4           9.0         Day     4.0       S005  ...              15   \n",
            "\n",
            "  Session Rating      User Name  Age       Location  Registration Date  \\\n",
            "0            4.5  Alice Johnson   28       New York         2023-01-15   \n",
            "1            4.0      Bob Smith   35    Los Angeles         2023-02-20   \n",
            "2            4.8    Charlie Lee   42        Chicago         2023-03-10   \n",
            "3            4.2  Alice Johnson   28       New York         2023-01-15   \n",
            "4            4.7    David Brown   27  San Francisco         2023-04-05   \n",
            "\n",
            "          Phone              Email Favorite Meal Total Orders  \n",
            "0  123-456-7890    alice@email.com        Dinner           12  \n",
            "1  987-654-3210      bob@email.com         Lunch            8  \n",
            "2  555-123-4567  charlie@email.com     Breakfast           15  \n",
            "3  123-456-7890    alice@email.com        Dinner           12  \n",
            "4  444-333-2222    david@email.com        Dinner           10  \n",
            "\n",
            "[5 rows x 22 columns]\n"
          ]
        }
      ]
    },
    {
      "cell_type": "markdown",
      "source": [
        "Popular dishes for each meal type"
      ],
      "metadata": {
        "id": "NRz7OAzFiT3z"
      }
    },
    {
      "cell_type": "code",
      "source": [
        "# Group by 'Meal Type' and 'Dish Name', and count 'Order ID'\n",
        "Meal_wise_order_count=OrderDetails.groupby(['Meal Type','Dish Name'])['Order ID'].count().reset_index()\n",
        "\n",
        "Meal_wise_order_count.rename(columns={'Order ID': 'Count of Order ID'}, inplace=True)\n",
        "\n",
        "# Find the row with the maximum count of  'Order ID' i.e   for each 'Meal Type'\n",
        "max_count_per_meal_type = Meal_wise_order_count.loc[a.groupby('Meal Type')['Order ID'].idxmax()].reset_index(drop=True)\n",
        "\n",
        "print(max_count_per_meal_type)"
      ],
      "metadata": {
        "colab": {
          "base_uri": "https://localhost:8080/"
        },
        "id": "N9tFRV0bWhBG",
        "outputId": "a5c7d11e-75f5-4a4a-9a44-c7bf8e9b7077"
      },
      "execution_count": 47,
      "outputs": [
        {
          "output_type": "stream",
          "name": "stdout",
          "text": [
            "   Meal Type        Dish Name  Count of Order ID\n",
            "0  Breakfast         Pancakes                  2\n",
            "1     Dinner  Grilled Chicken                  4\n",
            "2      Lunch     Caesar Salad                  3\n"
          ]
        }
      ]
    },
    {
      "cell_type": "markdown",
      "source": [
        "Demographic Factor influence user beheviour"
      ],
      "metadata": {
        "id": "skdnJTIyltZm"
      }
    },
    {
      "cell_type": "code",
      "source": [
        "# Group by 'Location' and 'Dish Name', and count 'Order ID'\n",
        "Location_wise_order_count=merged_dataset.groupby(['Location','Dish Name'])['Order ID'].count().reset_index()\n",
        "\n",
        "Location_wise_order_count.rename(columns={'Order ID': 'Count of Order ID'}, inplace=True)\n",
        "\n",
        "print(Location_wise_order_count)"
      ],
      "metadata": {
        "colab": {
          "base_uri": "https://localhost:8080/"
        },
        "id": "ZxyIfS5ClsTR",
        "outputId": "48619d34-f909-49b7-8e21-e925f5b5d815"
      },
      "execution_count": 50,
      "outputs": [
        {
          "output_type": "stream",
          "name": "stdout",
          "text": [
            "         Location        Dish Name  Count of Order ID\n",
            "0          Austin  Grilled Chicken                  1\n",
            "1          Boston        Spaghetti                  1\n",
            "2         Chicago  Grilled Chicken                  1\n",
            "3         Chicago         Pancakes                  1\n",
            "4         Chicago    Veggie Burger                  1\n",
            "5     Los Angeles     Caesar Salad                  1\n",
            "6     Los Angeles          Oatmeal                  1\n",
            "7     Los Angeles        Spaghetti                  1\n",
            "8           Miami    Veggie Burger                  1\n",
            "9        New York  Grilled Chicken                  1\n",
            "10       New York         Pancakes                  1\n",
            "11       New York        Spaghetti                  1\n",
            "12  San Francisco     Caesar Salad                  1\n",
            "13  San Francisco        Spaghetti                  1\n",
            "14        Seattle     Caesar Salad                  1\n",
            "15        Seattle  Grilled Chicken                  1\n"
          ]
        }
      ]
    }
  ]
}